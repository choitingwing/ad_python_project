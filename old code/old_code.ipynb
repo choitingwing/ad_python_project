{
 "cells": [
  {
   "cell_type": "markdown",
   "id": "00b1e306-a132-4957-9f47-3f1a845246f8",
   "metadata": {},
   "source": [
    "# All plotting from BLTrackfile"
   ]
  },
  {
   "cell_type": "markdown",
   "id": "f10450e5-8c05-45ee-9cb7-06b445d4e953",
   "metadata": {},
   "source": [
    "The file (from Fluka) has the format of"
   ]
  },
  {
   "cell_type": "markdown",
   "id": "4a952bb4-2fba-4506-9ab1-b96ffd13b67f",
   "metadata": {},
   "source": [
    "!BLTrackfile created by Ting \n",
    "<br> !x y z Px Py Pz t PDGid EvNum TrkId Parent weight\n",
    "<br> !cm cm cm GeV/c GeV/c GeV/c ns - - - - -"
   ]
  },
  {
   "cell_type": "code",
   "execution_count": 2,
   "id": "737b7068-550b-4b41-b9b5-81fdf45fe55c",
   "metadata": {},
   "outputs": [],
   "source": [
    "namelist = ['x', 'y', 'z', 'Px', 'Py', 'Pz', 't', 'PDGid', 'EventID', 'TrackID', 'ParentID', 'Weight']\n",
    "units = ['cm', 'cm', 'cm', 'GeV/c', 'GeV/c', 'GeV/c', 'ns', '-', '-', '-', '-', '-']"
   ]
  },
  {
   "cell_type": "code",
   "execution_count": 3,
   "id": "4bbe48ea-4591-45e9-8869-d68f7d894d30",
   "metadata": {
    "tags": []
   },
   "outputs": [],
   "source": [
    "# libraries\n",
    "import numpy as np\n",
    "import matplotlib.pyplot as plt \n",
    "\n",
    "# import scipy.constants as pc\n",
    "# from scipy.constants import c, R, k\n",
    "# from decimal import Decimal, getcontext\n",
    "# getcontext().prec = 16\n",
    "\n",
    "import time"
   ]
  },
  {
   "cell_type": "code",
   "execution_count": 4,
   "id": "b94f2c54-7d61-4f4d-84e4-eb3f70a788a7",
   "metadata": {
    "tags": []
   },
   "outputs": [],
   "source": [
    "from help_functions import *"
   ]
  },
  {
   "cell_type": "markdown",
   "id": "d00d8814-6df2-4136-b5a0-0586fd097eb9",
   "metadata": {},
   "source": [
    "## Load files"
   ]
  },
  {
   "cell_type": "code",
   "execution_count": 6,
   "id": "751b3bb8-e03b-4086-a924-1fb37cafd159",
   "metadata": {},
   "outputs": [
    {
     "name": "stdout",
     "output_type": "stream",
     "text": [
      "In ./data , found: piplus_in_dt_noB.txt\n",
      "In ./data , found: piplus_in_dt_B.txt\n",
      " \n",
      "loading \"./data/piplus_in_dt_noB.txt\" ...\n",
      "This file has 799707 number of pions\n",
      " loaded \"./data/piplus_in_dt_noB.txt\" ..., it took:1s\n",
      " \n",
      "loading \"./data/piplus_in_dt_B.txt\" ...\n",
      "This file has 1072572 number of pions\n",
      " loaded \"./data/piplus_in_dt_B.txt\" ..., it took:1s\n",
      "\n",
      " merging all files\n",
      "(2, 799707, 12)\n"
     ]
    }
   ],
   "source": [
    "from load_data import *\n",
    "# Specify the path to your directory \n",
    "data_path = './data'\n",
    "# load data with function\n",
    "data =load_raw_data(data_path)"
   ]
  },
  {
   "cell_type": "code",
   "execution_count": 4,
   "id": "41f60af9-af08-4ff4-8189-1e07f5e5339e",
   "metadata": {},
   "outputs": [],
   "source": [
    "# number_of_files = np.array([1,7]).astype(int)\n",
    "# number_of_files = ['+','-']\n",
    "# number_of_files = ['Plus_1M']\n",
    "\n",
    "number_of_files = [\n",
    "    'piplus_in_dt_B'\n",
    "    ,\n",
    "    'piplus_in_dt_noB'\n",
    "                ]\n",
    "total_number_of_files = len(number_of_files)"
   ]
  },
  {
   "cell_type": "code",
   "execution_count": 5,
   "id": "1a7a709c-70e5-4813-a8c3-a63b36f3f2e1",
   "metadata": {},
   "outputs": [
    {
     "name": "stdout",
     "output_type": "stream",
     "text": [
      "piplus_in_dt_B.txt\n",
      " loading \"piplus_in_dt_B.txt\" ...\n"
     ]
    },
    {
     "ename": "FileNotFoundError",
     "evalue": "piplus_in_dt_B.txt not found.",
     "output_type": "error",
     "traceback": [
      "\u001b[0;31m---------------------------------------------------------------------------\u001b[0m",
      "\u001b[0;31mFileNotFoundError\u001b[0m                         Traceback (most recent call last)",
      "Cell \u001b[0;32mIn[5], line 10\u001b[0m\n\u001b[1;32m      8\u001b[0m \u001b[38;5;28mprint\u001b[39m(\u001b[38;5;124mf\u001b[39m\u001b[38;5;124m'\u001b[39m\u001b[38;5;124m loading \u001b[39m\u001b[38;5;124m\"\u001b[39m\u001b[38;5;132;01m{\u001b[39;00mfilename\u001b[38;5;132;01m}\u001b[39;00m\u001b[38;5;124m\"\u001b[39m\u001b[38;5;124m ...\u001b[39m\u001b[38;5;124m'\u001b[39m)\n\u001b[1;32m      9\u001b[0m t0 \u001b[38;5;241m=\u001b[39m time\u001b[38;5;241m.\u001b[39mtime()\n\u001b[0;32m---> 10\u001b[0m data\u001b[38;5;241m.\u001b[39mappend(\u001b[43mnp\u001b[49m\u001b[38;5;241;43m.\u001b[39;49m\u001b[43mloadtxt\u001b[49m\u001b[43m(\u001b[49m\u001b[43mfilename\u001b[49m\u001b[43m)\u001b[49m)\n\u001b[1;32m     11\u001b[0m \u001b[38;5;28mprint\u001b[39m(\u001b[38;5;124m'\u001b[39m\u001b[38;5;124mThis file has\u001b[39m\u001b[38;5;124m'\u001b[39m , np\u001b[38;5;241m.\u001b[39mloadtxt(filename)\u001b[38;5;241m.\u001b[39mshape[\u001b[38;5;241m0\u001b[39m], \u001b[38;5;124m'\u001b[39m\u001b[38;5;124mnumber of pions\u001b[39m\u001b[38;5;124m'\u001b[39m)\n\u001b[1;32m     12\u001b[0m t1 \u001b[38;5;241m=\u001b[39m time\u001b[38;5;241m.\u001b[39mtime()\n",
      "File \u001b[0;32m~/miniconda3/lib/python3.11/site-packages/numpy/lib/npyio.py:1373\u001b[0m, in \u001b[0;36mloadtxt\u001b[0;34m(fname, dtype, comments, delimiter, converters, skiprows, usecols, unpack, ndmin, encoding, max_rows, quotechar, like)\u001b[0m\n\u001b[1;32m   1370\u001b[0m \u001b[38;5;28;01mif\u001b[39;00m \u001b[38;5;28misinstance\u001b[39m(delimiter, \u001b[38;5;28mbytes\u001b[39m):\n\u001b[1;32m   1371\u001b[0m     delimiter \u001b[38;5;241m=\u001b[39m delimiter\u001b[38;5;241m.\u001b[39mdecode(\u001b[38;5;124m'\u001b[39m\u001b[38;5;124mlatin1\u001b[39m\u001b[38;5;124m'\u001b[39m)\n\u001b[0;32m-> 1373\u001b[0m arr \u001b[38;5;241m=\u001b[39m \u001b[43m_read\u001b[49m\u001b[43m(\u001b[49m\u001b[43mfname\u001b[49m\u001b[43m,\u001b[49m\u001b[43m \u001b[49m\u001b[43mdtype\u001b[49m\u001b[38;5;241;43m=\u001b[39;49m\u001b[43mdtype\u001b[49m\u001b[43m,\u001b[49m\u001b[43m \u001b[49m\u001b[43mcomment\u001b[49m\u001b[38;5;241;43m=\u001b[39;49m\u001b[43mcomment\u001b[49m\u001b[43m,\u001b[49m\u001b[43m \u001b[49m\u001b[43mdelimiter\u001b[49m\u001b[38;5;241;43m=\u001b[39;49m\u001b[43mdelimiter\u001b[49m\u001b[43m,\u001b[49m\n\u001b[1;32m   1374\u001b[0m \u001b[43m            \u001b[49m\u001b[43mconverters\u001b[49m\u001b[38;5;241;43m=\u001b[39;49m\u001b[43mconverters\u001b[49m\u001b[43m,\u001b[49m\u001b[43m \u001b[49m\u001b[43mskiplines\u001b[49m\u001b[38;5;241;43m=\u001b[39;49m\u001b[43mskiprows\u001b[49m\u001b[43m,\u001b[49m\u001b[43m \u001b[49m\u001b[43musecols\u001b[49m\u001b[38;5;241;43m=\u001b[39;49m\u001b[43musecols\u001b[49m\u001b[43m,\u001b[49m\n\u001b[1;32m   1375\u001b[0m \u001b[43m            \u001b[49m\u001b[43munpack\u001b[49m\u001b[38;5;241;43m=\u001b[39;49m\u001b[43munpack\u001b[49m\u001b[43m,\u001b[49m\u001b[43m \u001b[49m\u001b[43mndmin\u001b[49m\u001b[38;5;241;43m=\u001b[39;49m\u001b[43mndmin\u001b[49m\u001b[43m,\u001b[49m\u001b[43m \u001b[49m\u001b[43mencoding\u001b[49m\u001b[38;5;241;43m=\u001b[39;49m\u001b[43mencoding\u001b[49m\u001b[43m,\u001b[49m\n\u001b[1;32m   1376\u001b[0m \u001b[43m            \u001b[49m\u001b[43mmax_rows\u001b[49m\u001b[38;5;241;43m=\u001b[39;49m\u001b[43mmax_rows\u001b[49m\u001b[43m,\u001b[49m\u001b[43m \u001b[49m\u001b[43mquote\u001b[49m\u001b[38;5;241;43m=\u001b[39;49m\u001b[43mquotechar\u001b[49m\u001b[43m)\u001b[49m\n\u001b[1;32m   1378\u001b[0m \u001b[38;5;28;01mreturn\u001b[39;00m arr\n",
      "File \u001b[0;32m~/miniconda3/lib/python3.11/site-packages/numpy/lib/npyio.py:992\u001b[0m, in \u001b[0;36m_read\u001b[0;34m(fname, delimiter, comment, quote, imaginary_unit, usecols, skiplines, max_rows, converters, ndmin, unpack, dtype, encoding)\u001b[0m\n\u001b[1;32m    990\u001b[0m     fname \u001b[38;5;241m=\u001b[39m os\u001b[38;5;241m.\u001b[39mfspath(fname)\n\u001b[1;32m    991\u001b[0m \u001b[38;5;28;01mif\u001b[39;00m \u001b[38;5;28misinstance\u001b[39m(fname, \u001b[38;5;28mstr\u001b[39m):\n\u001b[0;32m--> 992\u001b[0m     fh \u001b[38;5;241m=\u001b[39m \u001b[43mnp\u001b[49m\u001b[38;5;241;43m.\u001b[39;49m\u001b[43mlib\u001b[49m\u001b[38;5;241;43m.\u001b[39;49m\u001b[43m_datasource\u001b[49m\u001b[38;5;241;43m.\u001b[39;49m\u001b[43mopen\u001b[49m\u001b[43m(\u001b[49m\u001b[43mfname\u001b[49m\u001b[43m,\u001b[49m\u001b[43m \u001b[49m\u001b[38;5;124;43m'\u001b[39;49m\u001b[38;5;124;43mrt\u001b[39;49m\u001b[38;5;124;43m'\u001b[39;49m\u001b[43m,\u001b[49m\u001b[43m \u001b[49m\u001b[43mencoding\u001b[49m\u001b[38;5;241;43m=\u001b[39;49m\u001b[43mencoding\u001b[49m\u001b[43m)\u001b[49m\n\u001b[1;32m    993\u001b[0m     \u001b[38;5;28;01mif\u001b[39;00m encoding \u001b[38;5;129;01mis\u001b[39;00m \u001b[38;5;28;01mNone\u001b[39;00m:\n\u001b[1;32m    994\u001b[0m         encoding \u001b[38;5;241m=\u001b[39m \u001b[38;5;28mgetattr\u001b[39m(fh, \u001b[38;5;124m'\u001b[39m\u001b[38;5;124mencoding\u001b[39m\u001b[38;5;124m'\u001b[39m, \u001b[38;5;124m'\u001b[39m\u001b[38;5;124mlatin1\u001b[39m\u001b[38;5;124m'\u001b[39m)\n",
      "File \u001b[0;32m~/miniconda3/lib/python3.11/site-packages/numpy/lib/_datasource.py:193\u001b[0m, in \u001b[0;36mopen\u001b[0;34m(path, mode, destpath, encoding, newline)\u001b[0m\n\u001b[1;32m    156\u001b[0m \u001b[38;5;250m\u001b[39m\u001b[38;5;124;03m\"\"\"\u001b[39;00m\n\u001b[1;32m    157\u001b[0m \u001b[38;5;124;03mOpen `path` with `mode` and return the file object.\u001b[39;00m\n\u001b[1;32m    158\u001b[0m \n\u001b[0;32m   (...)\u001b[0m\n\u001b[1;32m    189\u001b[0m \n\u001b[1;32m    190\u001b[0m \u001b[38;5;124;03m\"\"\"\u001b[39;00m\n\u001b[1;32m    192\u001b[0m ds \u001b[38;5;241m=\u001b[39m DataSource(destpath)\n\u001b[0;32m--> 193\u001b[0m \u001b[38;5;28;01mreturn\u001b[39;00m \u001b[43mds\u001b[49m\u001b[38;5;241;43m.\u001b[39;49m\u001b[43mopen\u001b[49m\u001b[43m(\u001b[49m\u001b[43mpath\u001b[49m\u001b[43m,\u001b[49m\u001b[43m \u001b[49m\u001b[43mmode\u001b[49m\u001b[43m,\u001b[49m\u001b[43m \u001b[49m\u001b[43mencoding\u001b[49m\u001b[38;5;241;43m=\u001b[39;49m\u001b[43mencoding\u001b[49m\u001b[43m,\u001b[49m\u001b[43m \u001b[49m\u001b[43mnewline\u001b[49m\u001b[38;5;241;43m=\u001b[39;49m\u001b[43mnewline\u001b[49m\u001b[43m)\u001b[49m\n",
      "File \u001b[0;32m~/miniconda3/lib/python3.11/site-packages/numpy/lib/_datasource.py:533\u001b[0m, in \u001b[0;36mDataSource.open\u001b[0;34m(self, path, mode, encoding, newline)\u001b[0m\n\u001b[1;32m    530\u001b[0m     \u001b[38;5;28;01mreturn\u001b[39;00m _file_openers[ext](found, mode\u001b[38;5;241m=\u001b[39mmode,\n\u001b[1;32m    531\u001b[0m                               encoding\u001b[38;5;241m=\u001b[39mencoding, newline\u001b[38;5;241m=\u001b[39mnewline)\n\u001b[1;32m    532\u001b[0m \u001b[38;5;28;01melse\u001b[39;00m:\n\u001b[0;32m--> 533\u001b[0m     \u001b[38;5;28;01mraise\u001b[39;00m \u001b[38;5;167;01mFileNotFoundError\u001b[39;00m(\u001b[38;5;124mf\u001b[39m\u001b[38;5;124m\"\u001b[39m\u001b[38;5;132;01m{\u001b[39;00mpath\u001b[38;5;132;01m}\u001b[39;00m\u001b[38;5;124m not found.\u001b[39m\u001b[38;5;124m\"\u001b[39m)\n",
      "\u001b[0;31mFileNotFoundError\u001b[0m: piplus_in_dt_B.txt not found."
     ]
    }
   ],
   "source": [
    "data = []\n",
    "for number in number_of_files:\n",
    "#     # number = int(number)\n",
    "#     filename = f'{name_of_files}_{str(number)}.txt' # input your file name\n",
    "# for name in name_of_files:\n",
    "    filename = f'{number}.txt' # input your file name\n",
    "    print(filename)\n",
    "    print(f' loading \"{filename}\" ...')\n",
    "    t0 = time.time()\n",
    "    data.append(np.loadtxt(filename))\n",
    "    print('This file has' , np.loadtxt(filename).shape[0], 'number of pions')\n",
    "    t1 = time.time()\n",
    "    t = int(t1-t0)\n",
    "    print(f' loaded \"{filename}\" ..., it took:{t}s')\n",
    "\n",
    "# cut to minimum row\n",
    "min_line = [] \n",
    "for d in data:\n",
    "    min_line.append(len(d))\n",
    "line = min(min_line)\n",
    "\n",
    "data_np = []\n",
    "\n",
    "for i in range(total_number_of_files):\n",
    "    data_np.append( data[i][0:line,:] )\n",
    "    \n",
    "data = np.array(data_np)\n",
    "del data_np\n",
    "data.shape"
   ]
  },
  {
   "cell_type": "markdown",
   "id": "2e8d28b7-213e-4083-ab28-9132e5eec9b4",
   "metadata": {},
   "source": [
    "## Define variable and collect data needed"
   ]
  },
  {
   "cell_type": "code",
   "execution_count": 7,
   "id": "8d3b7ce4-8e85-41ac-8755-e1a57db7dcd2",
   "metadata": {},
   "outputs": [
    {
     "name": "stdout",
     "output_type": "stream",
     "text": [
      "Emittance is  1.5 mmrad\n"
     ]
    }
   ],
   "source": [
    "r_maxmax = 10 # cm\n",
    "theta_maxmax =15e-3 # rad\n",
    "emittance = r_maxmax*1e-2*theta_maxmax/1e-3\n",
    "print( \"Emittance is \", emittance, \"mmrad\")"
   ]
  },
  {
   "cell_type": "code",
   "execution_count": 8,
   "id": "07840451-61fa-450a-b933-25035d49cc95",
   "metadata": {},
   "outputs": [
    {
     "name": "stdout",
     "output_type": "stream",
     "text": [
      "Emittance is  18.0 mmrad\n"
     ]
    }
   ],
   "source": [
    "r_maxmax = 30 # cm\n",
    "theta_maxmax = 60e-3 # rad\n",
    "emittance = r_maxmax*1e-2*theta_maxmax/1e-3\n",
    "print( \"Emittance is \", emittance, \"mmrad\")"
   ]
  },
  {
   "cell_type": "code",
   "execution_count": 11,
   "id": "4e7f4cb4-0bfd-44bd-85cf-8c874dc6a8c2",
   "metadata": {},
   "outputs": [
    {
     "name": "stderr",
     "output_type": "stream",
     "text": [
      "/var/folders/j9/qxy4t2_127v94zchg7r27g7c0000gn/T/ipykernel_68787/3768497330.py:13: RuntimeWarning: invalid value encountered in sqrt\n",
      "  emission_angle_max[i] = theta_maxmax * np.sqrt( 1-(r[i]/r_maxmax)**2 )\n"
     ]
    }
   ],
   "source": [
    "total_number_of_files = len(data)\n",
    "line = len(data[1])\n",
    "all_data = np.empty([total_number_of_files, line, 10])\n",
    "\n",
    "x, y, r, emission_angle, Px, Py, Pz, P, PDGid, emission_angle_max = all_data[:,:,0], all_data[:,:,1], all_data[:,:,2], all_data[:,:,3], all_data[:,:,4], all_data[:,:,5], all_data[:,:,6], all_data[:,:,7], all_data[:,:,8], all_data[:,:,9]\n",
    "\n",
    "for i in range(total_number_of_files):\n",
    "    x[i], y[i] = data[i,:,0], data[i,:,1]\n",
    "    r[i] = np.sqrt(x[i]**2 + y[i]**2)\n",
    "    Px[i], Py[i], Pz[i]= data[i,:,3], data[i,:,4], data[i,:,5]\n",
    "    P[i] = np.sqrt(Pz[i]**2+Px[i]**2+Py[i]**2)\n",
    "    emission_angle[i]  = np.arctan( np.sqrt(Px[i]**2+Py[i]**2)/Pz[i] )\n",
    "    emission_angle_max[i] = theta_maxmax * np.sqrt( 1-(r[i]/r_maxmax)**2 )\n",
    "\n",
    "    PDGid[i] =  data[i,:,7]\n",
    "emission_angle_max[np.isnan(emission_angle_max)] = 0"
   ]
  },
  {
   "cell_type": "code",
   "execution_count": 12,
   "id": "8df5bd61-f5c2-4e7d-a4a9-69bba1543ab1",
   "metadata": {},
   "outputs": [],
   "source": [
    "# parameters same for all data\n",
    "nu_e = PDGid == 12\n",
    "mu_plus = PDGid == -13\n",
    "nu_mu_bar = PDGid == -14\n",
    "\n",
    "pion_plus = PDGid == 211\n",
    "pion_minus = PDGid == -211"
   ]
  },
  {
   "cell_type": "markdown",
   "id": "a9d07aba-eed6-44aa-8c3a-bc13c51c082a",
   "metadata": {},
   "source": [
    "## Define a cut here"
   ]
  },
  {
   "cell_type": "code",
   "execution_count": 13,
   "id": "dcf9911c-e52d-4155-b687-d6a39c07b1c5",
   "metadata": {},
   "outputs": [],
   "source": [
    "# multiple cut\n",
    "cut=[] \n",
    "pion720880 = ((P>0.720)&(P<0.880)&pion_plus)\n",
    "# emit_xy = ( (x>-10)&(x<10)&(Px/Pz<15/1000)&(Px/Pz>-15/1000)& (y>-10)&(y<10)&(Py/Pz<15/1000)&(Py/Pz>-15/1000) )\n",
    "\n",
    "emit_r_theta = ( (emission_angle < emission_angle_max)  )\n",
    "\n",
    "cut_list = [pion_plus, pion720880, emit_r_theta] # [ nu_e , nu_mu_bar, nu_e006, nu_mu_bar006] , emit_xy\n",
    "cut_name_list = [r'$\\pi^+$ ',r'$\\pi^+$ 720<P<880', 'emit_r_theta'] # , 'emit_xy'\n",
    "total_number_of_cut = len(cut_name_list)\n",
    "for c in cut_list:\n",
    "    cut.append(c)"
   ]
  },
  {
   "cell_type": "markdown",
   "id": "efa3a380-d2fc-4a25-bd17-da99ce4503f6",
   "metadata": {},
   "source": [
    "## Selection of data of which file"
   ]
  },
  {
   "cell_type": "code",
   "execution_count": 14,
   "id": "afb0c0f5-5b2e-4efe-92e7-c667f4678470",
   "metadata": {},
   "outputs": [],
   "source": [
    "x_s_c, y_s_c, r_s_c, emission_angle_s_c, Px_s_c, Py_s_c, Pz_s_c, P_s_c, PDGid_s_c  = [], [], [], [], [], [], [], [], []\n",
    "for cut in cut_list:\n",
    "    selected_data=[]\n",
    "    for i in range(total_number_of_files):\n",
    "        selected_data.append( all_data[i][cut[i]] )\n",
    "    x_s, y_s, r_s, emission_angle_s, Px_s, Py_s, Pz_s, P_s, PDGid_s = [], [], [], [], [], [], [], [], []\n",
    "    for i in range(total_number_of_files):\n",
    "        x_s.append(selected_data[i][:,0])\n",
    "        y_s.append(selected_data[i][:,1])\n",
    "        r_s.append(selected_data[i][:,2])\n",
    "        emission_angle_s.append(selected_data[i][:,3])\n",
    "        Px_s.append(selected_data[i][:,4])\n",
    "        Py_s.append(selected_data[i][:,5])\n",
    "        Pz_s.append(selected_data[i][:,6])\n",
    "        P_s.append(selected_data[i][:,7])\n",
    "        PDGid_s.append(selected_data[i][:,8])\n",
    "        \n",
    "    x_s_c.append(x_s)\n",
    "    y_s_c.append(y_s)\n",
    "    r_s_c.append(r_s)\n",
    "    emission_angle_s_c.append(emission_angle_s)\n",
    "    Px_s_c.append(Px_s)\n",
    "    Py_s_c.append(Py_s)\n",
    "    Pz_s_c.append(Pz_s)\n",
    "    P_s_c.append(P_s)\n",
    "    PDGid_s_c.append(PDGid_s)"
   ]
  },
  {
   "cell_type": "code",
   "execution_count": 28,
   "id": "4e7c8627-7ced-40b9-9429-3b64805f8f5f",
   "metadata": {},
   "outputs": [
    {
     "data": {
      "text/plain": [
       "[[array([-127.486   , -166.3554  ,  -34.27872 , ...,   -3.477148,\n",
       "          -78.20168 ,  -50.66881 ]),\n",
       "  array([ -7.761783 , -28.19757  ,   0.3645288, ...,  13.48941  ,\n",
       "         -30.63274  ,  24.473    ])],\n",
       " [array([-127.486  ,  -56.76223,   64.22037, ...,  -75.22256, -105.9836 ,\n",
       "           78.1264 ]),\n",
       "  array([ -13.54454 ,  -34.65759 ,   -7.085941, ...,  -21.20064 ,\n",
       "           52.5265  , -142.0734  ])],\n",
       " [array([ 13.97374 , -12.27925 ,  -8.196755, ...,  10.57139 ,  -0.819154,\n",
       "          -4.155579]),\n",
       "  array([-13.54454  , -15.69871  ,   5.734017 , ...,   2.746747 ,\n",
       "          -0.6159913,  -9.726809 ])]]"
      ]
     },
     "execution_count": 28,
     "metadata": {},
     "output_type": "execute_result"
    }
   ],
   "source": [
    "x_s_c"
   ]
  },
  {
   "cell_type": "code",
   "execution_count": 28,
   "id": "8197a72c-0491-4ac1-81c5-a33646d1399b",
   "metadata": {},
   "outputs": [
    {
     "data": {
      "text/plain": [
       "9"
      ]
     },
     "execution_count": 28,
     "metadata": {},
     "output_type": "execute_result"
    }
   ],
   "source": [
    "namelist_s_c = ['x', 'y', 'r', r'$\\theta$','Px', 'Py', 'Pz', 'P', 'PDGid']\n",
    "len(namelist_s_c)"
   ]
  },
  {
   "cell_type": "code",
   "execution_count": 15,
   "id": "8fdb4bb8-7bd1-4ffa-b674-3189dc7c944e",
   "metadata": {},
   "outputs": [],
   "source": [
    "All_data_s_c = [x_s_c, y_s_c, r_s_c, emission_angle_s_c, Px_s_c, Py_s_c, Pz_s_c, P_s_c, PDGid_s_c ]"
   ]
  },
  {
   "cell_type": "markdown",
   "id": "0b8eee73-3ef4-4a65-b4c5-95f5bff3d9ae",
   "metadata": {},
   "source": [
    "## Plotting"
   ]
  },
  {
   "cell_type": "markdown",
   "id": "b28daf30-5fd3-4fac-aa44-72112b3336ee",
   "metadata": {
    "tags": []
   },
   "source": [
    "### Momentum distribution"
   ]
  },
  {
   "cell_type": "code",
   "execution_count": null,
   "id": "7b7cee44-c4af-442d-98f9-f37a3e073de2",
   "metadata": {
    "tags": []
   },
   "outputs": [],
   "source": [
    "colors = ['b', 'g', 'r', 'c', 'm', 'y', 'k','pink','brown','olive','orange', 'purple']\n",
    "linestyle = \"-\"\n",
    "\n",
    "bin_min = 0\n",
    "bin_max = 2000\n",
    "bin_width = 10\n",
    "bins_number = int(bin_max/bin_width+1)\n",
    "bins_number\n",
    "\n",
    "bin_P = np.linspace(bin_min, bin_max, bins_number)"
   ]
  },
  {
   "cell_type": "code",
   "execution_count": null,
   "id": "4d2c264e-c97a-4724-b747-c181136ccda0",
   "metadata": {},
   "outputs": [],
   "source": [
    "fig = plt.figure(figsize=(15,5))\n",
    "ax = fig.add_subplot(111)\n",
    "# bin = 100\n",
    "factor = 1000\n",
    "## plot type\n",
    "for i in range(total_number_of_files):\n",
    "    for ic in range(total_number_of_cut):\n",
    "        # if ic == 2:\n",
    "        #     linestyle = ':'\n",
    "        #     n, bins, patches = ax.hist(P_s_c[ic][i], bins=bin, histtype='step', color = colors[ic-int(len(cut_list)/2)], linestyle=linestyle,\n",
    "        #                                label=fr'{cut_name_list[ic]} : Total number is {P_s_c[ic][i].shape[0]}')\n",
    "        # else:\n",
    "            # linestyle = '-'\n",
    "        n, bins, patches = ax.hist(P_s_c[ic][i]*factor, bins=bin_P, histtype='step', color = colors[total_number_of_cut*i +ic], linestyle=linestyle,\n",
    "                                       label=fr'{number_of_files[i]}_{cut_name_list[ic]} : \\t Total number is {P_s_c[ic][i].shape[0]}')\n",
    "\n",
    "## optional config\n",
    "plt.legend(loc='upper right')\n",
    "plt.xlabel('P(MeV)')\n",
    "plt.ylabel(f' N/{bin_width} MeV')\n",
    "# ax.set_ylim(0,1000)\n",
    "# plt.title(f'{cut_name_list[i]}') #f'$10^{int(np.log10(data.shape[1]))}$ {number_of_files[i]}00MeV muon decays. ~14% in the narrow cone.')\n",
    "save_name = f'{data.shape[1]}_pion_momentum_dis.png'\n",
    "plt.savefig(save_name)"
   ]
  },
  {
   "cell_type": "markdown",
   "id": "4d209452-f465-443a-a276-279ed72b903f",
   "metadata": {
    "tags": []
   },
   "source": [
    "### Emission angle distribution"
   ]
  },
  {
   "cell_type": "code",
   "execution_count": null,
   "id": "826eb978-c9be-48b5-948d-76c71df9fe82",
   "metadata": {
    "tags": []
   },
   "outputs": [],
   "source": [
    "bin_min = 0\n",
    "bin_max = np.pi/2\n",
    "bin_width = 0.02\n",
    "bins_number = int(bin_max/bin_width+1)\n",
    "bins_number\n",
    "\n",
    "bin_theta = np.linspace(bin_min, bin_max, bins_number)\n",
    "print(bin_theta.shape)\n",
    "bin_theta"
   ]
  },
  {
   "cell_type": "code",
   "execution_count": null,
   "id": "bcef1427-c7d6-47a0-b4c7-77b05f51fa22",
   "metadata": {},
   "outputs": [],
   "source": [
    "fig = plt.figure(figsize=(10,7))\n",
    "ax = fig.add_subplot(111)\n",
    "## plot type\n",
    "\n",
    "for i in range(total_number_of_files):\n",
    "    for ic in range(len(cut_list)):\n",
    "        n, bins, patches = ax.hist(emission_angle_s_c[ic][i], bins=bin_theta, histtype='step', color = colors[i*total_number_of_cut + ic], linestyle=linestyle,\n",
    "                                   label=fr'{number_of_files[i]}_{cut_name_list[ic]} : Total number is {emission_angle_s_c[ic][i].shape[0]}')\n",
    "        # if ic ==1:\n",
    "        #     print(r'number of pion in $\\theta<0.1$ is', sum(n[bins[1::]<0.1]))\n",
    "\n",
    "## optional config\n",
    "ax.legend()\n",
    "# plt.legend(legend_labels, loc='upper right')\n",
    "plt.xlabel(fr'$\\theta_{{lab}}$ (rads)')\n",
    "plt.ylabel(fr' N / {bin_width} rad')\n",
    "plt.title(f'{cut_name_list[i]}')\n",
    "save_name = f'{data.shape[1]}_emission_angle_dis.png'\n",
    "# plt.yscale(\"log\")\n",
    "# save_name = f'Emission_angle_distribution_{data.shape[1]} decay.png'\n",
    "plt.savefig(save_name)"
   ]
  },
  {
   "cell_type": "markdown",
   "id": "c9a91783-871e-4f36-823e-6f951be6bcb4",
   "metadata": {},
   "source": [
    "## 2D plot"
   ]
  },
  {
   "cell_type": "markdown",
   "id": "ad999e3a-3dc4-4df7-8f15-a76de66cd964",
   "metadata": {},
   "source": [
    "### P-theta Heat map"
   ]
  },
  {
   "cell_type": "code",
   "execution_count": null,
   "id": "7dc8ab24-0d6e-4ae9-bc02-3ec0e86e212a",
   "metadata": {
    "tags": []
   },
   "outputs": [],
   "source": [
    "bin_min = 0\n",
    "# bin_max = max(number_of_files)*100\n",
    "bin_max = 2000\n",
    "bin_width = 10\n",
    "bins_number = int(bin_max/bin_width+1)\n",
    "bin_P = np.linspace(bin_min, bin_max, bins_number)\n",
    "\n",
    "bin_min = 0\n",
    "bin_max = np.pi/2\n",
    "bin_width = 0.02\n",
    "bins_number = int(bin_max/bin_width+1)\n",
    "bin_theta = np.linspace(bin_min, bin_max, bins_number)\n",
    "\n",
    "bins_P_theta = [bin_P, bin_theta]"
   ]
  },
  {
   "cell_type": "code",
   "execution_count": null,
   "id": "0732326f-ed80-45bc-ac0b-95cf78e1a18f",
   "metadata": {
    "tags": []
   },
   "outputs": [],
   "source": [
    "# main plotting\n",
    "oPlot = FlowLayout() # create an empty FlowLayout\n",
    "#Heat map for r theta\n",
    "#####################\n",
    "for i in range(total_number_of_files):\n",
    "    ic = 0\n",
    "    run_name = fr'{i}'\n",
    "    plot_title = fr\"Heatmap of P-$\\theta$ of {number_of_files[i]}\"\n",
    "    xlabel = f\"P (MeV)\"\n",
    "    ylabel = fr\"$\\theta$ (rad)\" \n",
    "    cmap = \"Blues\"# \"coolwarm\" # \"BuPu\" \"YlOrRd\"\n",
    "    # bins = 100\n",
    "    cscale = \"linear\"\n",
    "    file_name = f\"plots/scatter_2dhistogram_{run_name}_cscale{cscale}.png\"\n",
    "\n",
    "    # Also plot a heatmap of the scatter plot instead of just dots\n",
    "    fig, ax, im = get_histogram2d(P_s_c[ic][i]*factor, emission_angle_s_c[ic][i],\n",
    "                                  title=plot_title, xlabel=xlabel, ylabel=ylabel, bins=bins_P_theta, \n",
    "                                  cmap=cmap, cscale=cscale)\n",
    "\n",
    "    #     # Plot a black line through the middle\n",
    "    #     xmin = min(shower_energy_log10)\n",
    "    #     xmax = max(shower_energy_log10)\n",
    "    #     ymin = min(shower_energy_log10_predict)\n",
    "    #     ymax = max(shower_energy_log10_predict)\n",
    "\n",
    "    #     ax.plot([min(xmin, ymin), max(xmax, ymax)], [min(xmin, ymin), max(xmax, ymax)], 'k--')\n",
    "    #     ax.set_ylim(0,np.pi/2)\n",
    "    plt.xlim(0,1000)\n",
    "    plt.ylim(0,1)\n",
    "    plt.tight_layout()\n",
    "    save_name = f'{data.shape[1]}_{number_of_files[i]}_P_theta_2Ddis.png'\n",
    "    plt.savefig(save_name, dpi=300)\n",
    "\n",
    "    oPlot.add_plot(ax) # pass it to the FlowLayout to save as an image\n",
    "    plt.close() # this gets rid of the plot so it doesn't appear in the cell\n",
    "oPlot.PassHtmlToCell()"
   ]
  },
  {
   "cell_type": "code",
   "execution_count": null,
   "id": "5d7ec207-5260-4c1f-bfc8-413c1ea6ec08",
   "metadata": {
    "tags": []
   },
   "outputs": [],
   "source": [
    "bin_min = 0\n",
    "# bin_max = max(number_of_files)*100\n",
    "bin_max = 1000 # 2000\n",
    "bin_width = 20\n",
    "bins_number = int(bin_max/bin_width+1)\n",
    "bin_P = np.linspace(bin_min, bin_max, bins_number)\n",
    "\n",
    "bin_min = 0\n",
    "bin_max = 1 #np.pi/2\n",
    "bin_width = 0.04\n",
    "bins_number = int(bin_max/bin_width+1)\n",
    "bin_theta = np.linspace(bin_min, bin_max, bins_number)\n",
    "\n",
    "bins_P_theta = [bin_P, bin_theta]"
   ]
  },
  {
   "cell_type": "code",
   "execution_count": null,
   "id": "b739d5f1-f057-44cf-8fc3-a51c23bb1879",
   "metadata": {
    "tags": []
   },
   "outputs": [],
   "source": [
    "# main plotting\n",
    "#Heat map for r theta\n",
    "#####################\n",
    "from matplotlib import cm\n",
    "fig = plt.figure(figsize=(12,6))\n",
    "for i in range(total_number_of_files):\n",
    "    ic = 0\n",
    "    k=0\n",
    "    run_name = fr'{i}'\n",
    "    plot_title = fr\"Heatmap of P-$\\theta$ of {number_of_files[i]}\"\n",
    "    xlabel = f\"P (MeV)\"\n",
    "    ylabel = fr\"$\\theta$ (rad)\" \n",
    "    cmap = \"Blues\"# \"coolwarm\" # \"BuPu\" \"YlOrRd\"\n",
    "    # bins = 100\n",
    "    cscale = \"linear\"\n",
    "    file_name = f\"plots/scatter_2dhistogram_{run_name}_cscale{cscale}.png\"\n",
    "    \n",
    "\n",
    "     # Make data\n",
    "    x, y = P_s_c[ic][i]*factor, emission_angle_s_c[ic][i]\n",
    "    hist, xedges, yedges = np.histogram2d(x, y, bins=bins_P_theta)\n",
    "    X, Y = np.meshgrid(xedges[:-1], yedges[:-1])\n",
    "    Z = np.transpose(hist)\n",
    "    # Plot the surface\n",
    "    plt.style.use('_mpl-gallery')\n",
    "            \n",
    "    ax = plt.subplot(1,2,i+1, projection='3d')\n",
    "\n",
    "    # Normalize to [0,1]\n",
    "    norm = plt.Normalize(Z.min(), Z.max())\n",
    "    colors_3D = cm.Blues(norm(Z))\n",
    "    rcount, ccount, _ = colors_3D.shape\n",
    "    \n",
    "    surf = ax.plot_surface(X, Y, Z, edgecolor='none', rcount=rcount, ccount=ccount, facecolors=colors_3D, shade=False) # cmap='Blues'\n",
    "    surf.set_facecolor((0,0,0,0))\n",
    "    # surf = ax.plot_wireframe(X, Y, Z,  cmap='jet', alpha=0.7) # \n",
    "    ax.set_title(plot_title)\n",
    "    ax.set_xlabel(xlabel)\n",
    "    ax.set_ylabel(ylabel)\n",
    "    # Set colorbar to show the mapping of z-values to colors\n",
    "\n",
    "    plt.tight_layout()\n",
    "    save_name = f'{data.shape[1]}_{number_of_files[i]}_P_theta_2Ddis.png'\n",
    "    # plt.savefig(save_name, dpi=300)\n"
   ]
  },
  {
   "cell_type": "code",
   "execution_count": null,
   "id": "67a656da-e667-4b77-bfb4-88898e2de6ad",
   "metadata": {
    "tags": []
   },
   "outputs": [],
   "source": [
    "oPlot = FlowLayout() # create an empty FlowLayout\n",
    "# fig = plt.figure(figsize=(10,10))\n",
    "# ax = fig.add_subplot(121)\n",
    "## plot type\n",
    "for i in range(total_number_of_files):\n",
    "    for k in range(3):\n",
    "        fig, ax = plt.subplots(1, 1, figsize=(6,6))\n",
    "        for ic in range(total_number_of_cut):\n",
    "            if k ==2:\n",
    "                ax.scatter(r_s_c[ic][i], emission_angle_s_c[ic][i], color = colors[ic], s=0.1, label=fr'{cut_name_list[ic]} : Total number is {P_s_c[ic][i].shape[0]}')\n",
    "                ax.set_ylabel(f'{namelist_s_c[k+1]}(rad)')\n",
    "            else:  \n",
    "                ax.scatter(All_data_s_c[k][ic][i], All_data_s_c[k+4][ic][i]/Pz_s_c[ic][i], color = colors[ic], s=0.1, label=fr'{cut_name_list[ic]} : Total number is {P_s_c[ic][i].shape[0]}')\n",
    "                ax.set_ylabel(f'{namelist_s_c[k]}\\'(rad)')\n",
    "            ## optional config\n",
    "            ax.legend(loc='upper right')\n",
    "            ax.set_xlabel(f'{namelist_s_c[k]} (cm)')\n",
    "    \n",
    "            \n",
    "\n",
    "        plt.title(f'{number_of_files[i]}')\n",
    "        save_name = f'{data.shape[1]}_{number_of_files[i]}_emittance_{namelist_s_c[k]}.png'\n",
    "        plt.savefig(save_name)\n",
    "        oPlot.add_plot(ax) # pass it to the FlowLayout to save as an image\n",
    "        plt.close() # this gets rid of the plot so it doesn't appear in the cell\n",
    "\n",
    "oPlot.PassHtmlToCell()"
   ]
  },
  {
   "cell_type": "code",
   "execution_count": null,
   "id": "109c14ba-ffcb-4d89-8f48-06358cf5fdbe",
   "metadata": {
    "tags": []
   },
   "outputs": [],
   "source": [
    "# oPlot = FlowLayout() # create an empty FlowLayout\n",
    "\n",
    "# i = 0\n",
    "# # fig = plt.figure(figsize=(10,10))\n",
    "# # ax = fig.add_subplot(121)\n",
    "# ## plot type\n",
    "# fig, ax = plt.subplots(1, 1, figsize=(7,7))\n",
    "# for ic in range(len(cut_list)):\n",
    "#     ax.scatter(r_s_c[ic][i], emission_angle_s_c[ic][i], color = colors[ic], s=0.1, label=fr'{cut_name_list[ic]} : Total number is {P_s_c[ic][i].shape[0]}')\n",
    "#     ## optional config\n",
    "#     ax.legend(loc='upper right')\n",
    "#     ax.set_xlabel(f'r (cm)')\n",
    "#     ax.set_ylabel(r'$\\theta$ (rad)')\n",
    "\n",
    "\n",
    "# save_name = f'{data.shape[1]} {name_of_files}{number_of_files[i]}_emittance_r_{namelist_s_c[k]}.png'\n",
    "# plt.savefig(save_name)\n",
    "# oPlot.add_plot(ax) # pass it to the FlowLayout to save as an image\n",
    "# plt.close() # this gets rid of the plot so it doesn't appear in the cell\n",
    "\n",
    "# oPlot.PassHtmlToCell()"
   ]
  },
  {
   "cell_type": "code",
   "execution_count": null,
   "id": "98161e12-952a-4d8a-9337-e50687e6d406",
   "metadata": {
    "tags": []
   },
   "outputs": [],
   "source": [
    "bin_min = -200\n",
    "# bin_max = max(number_of_files)*100\n",
    "bin_max = 200\n",
    "bin_width_xy = 1\n",
    "bins_number = int(bin_max/bin_width_xy+1)\n",
    "bin_xy = np.linspace(bin_min, bin_max, bins_number)\n",
    "\n",
    "bin_min = -1000\n",
    "bin_max = 1000\n",
    "bin_width_theta = 1\n",
    "bins_number = int(bin_max/bin_width_theta+1)\n",
    "bin_theta = np.linspace(bin_min, bin_max, bins_number)\n",
    "\n",
    "bins_xy_theta = [bin_xy, bin_theta]"
   ]
  },
  {
   "cell_type": "markdown",
   "id": "88059f1c-a2b6-42f9-9bd2-a9d3aaa463fa",
   "metadata": {
    "tags": []
   },
   "source": [
    "### Emittance and confidence level fit\n",
    "https://matplotlib.org/stable/gallery/statistics/confidence_ellipse.html"
   ]
  },
  {
   "cell_type": "code",
   "execution_count": null,
   "id": "7e52c4c9-55e1-44f0-b7e2-dd4676044720",
   "metadata": {
    "tags": []
   },
   "outputs": [],
   "source": [
    "from matplotlib.patches import Ellipse\n",
    "import matplotlib.transforms as transforms\n",
    "\n",
    "def confidence_ellipse(x, y, ax, n_std=3.0, facecolor='none', **kwargs):\n",
    "    \"\"\"\n",
    "    Create a plot of the covariance confidence ellipse of `x` and `y`\n",
    "\n",
    "    Parameters\n",
    "    ----------\n",
    "    x, y : array_like, shape (n, )\n",
    "        Input data.\n",
    "\n",
    "    ax : matplotlib.axes.Axes\n",
    "        The axes object to draw the ellipse into.\n",
    "\n",
    "    n_std : float\n",
    "        The number of standard deviations to determine the ellipse's radiuses.\n",
    "\n",
    "    Returns\n",
    "    -------\n",
    "    matplotlib.patches.Ellipse\n",
    "\n",
    "    Other parameters\n",
    "    ----------------\n",
    "    kwargs : `~matplotlib.patches.Patch` properties\n",
    "    \"\"\"\n",
    "    if x.size != y.size:\n",
    "        raise ValueError(\"x and y must be the same size\")\n",
    "\n",
    "    cov = np.cov(x, y)\n",
    "    pearson = cov[0, 1]/np.sqrt(cov[0, 0] * cov[1, 1])\n",
    "    # Using a special case to obtain the eigenvalues of this\n",
    "    # two-dimensionl dataset.\n",
    "    ell_radius_x = np.sqrt(1 + pearson)\n",
    "    ell_radius_y = np.sqrt(1 - pearson)\n",
    "    ellipse = Ellipse((0, 0),\n",
    "        width=ell_radius_x * 2,\n",
    "        height=ell_radius_y * 2,\n",
    "        facecolor=facecolor,\n",
    "        **kwargs)\n",
    "\n",
    "    # Calculating the stdandard deviation of x from\n",
    "    # the squareroot of the variance and multiplying\n",
    "    # with the given number of standard deviations.\n",
    "    scale_x = np.sqrt(cov[0, 0]) * n_std\n",
    "    mean_x = np.mean(x)\n",
    "\n",
    "    # calculating the stdandard deviation of y ...\n",
    "    scale_y = np.sqrt(cov[1, 1]) * n_std\n",
    "    mean_y = np.mean(y)\n",
    "\n",
    "    transf = transforms.Affine2D() \\\n",
    "        .rotate_deg(45) \\\n",
    "        .scale(scale_x, scale_y) \\\n",
    "        .translate(mean_x, mean_y)\n",
    "\n",
    "    ellipse.set_transform(transf + ax.transData)\n",
    "    return ax.add_patch(ellipse)"
   ]
  },
  {
   "cell_type": "code",
   "execution_count": null,
   "id": "0fcb1257-e1e3-4698-af5e-63d2240eb9ae",
   "metadata": {
    "tags": []
   },
   "outputs": [],
   "source": [
    "# main plotting\n",
    "oPlot = FlowLayout() # create an empty FlowLayout\n",
    "#Heat map for r theta\n",
    "#####################\n",
    "print(\"                                            All                                                                      momentum cut                                                                             emittacnce cut\")\n",
    "for i in range(total_number_of_files):    \n",
    "    print(number_of_files[i])\n",
    "    for k in range(3):\n",
    "        print(\"                \",namelist_s_c[k])\n",
    "        for ic in range(len(cut_list)):\n",
    "            run_name = fr' {cut_name_list[ic]}'\n",
    "            plot_title = fr\"Heatmap of emittance of {run_name}, bin width = {bin_width_xy}cm*{bin_width_theta}mrad.\" +\"\\n\" +f\"Total number is {x_s_c[ic][i].shape[0]}\"\n",
    "            xlabel = f\"{namelist_s_c[k]} (cm)\"\n",
    "            ylabel = f\"{namelist_s_c[k]}\\'(mrad)\" \n",
    "            cmap = \"Reds\"#\"coolwarm\" # \"BuPu\" \"YlOrRd\"\n",
    "            # bins = 100\n",
    "            cscale = \"linear\"\n",
    "            file_name = f\"plots/scatter_2dhistogram_{run_name}_cscale{cscale}.png\"\n",
    "\n",
    "            # Also plot a heatmap of the scatter plot instead of just dots\n",
    "            if k ==2:\n",
    "                x = r_s_c[ic][i]\n",
    "                y = emission_angle_s_c[ic][i]*1e3\n",
    "                fig, ax, im = get_histogram2d(x, y,  bins=bins_xy_theta, title=plot_title, xlabel=xlabel, ylabel=ylabel, cmap=cmap, cscale=cscale)\n",
    "                confidence_ellipse(x, y, ax, n_std=1, label=r'$1\\sigma$', edgecolor='green')\n",
    "                ax.set_ylabel(f'{namelist_s_c[k+1]}(mrad)')\n",
    "            else:\n",
    "                x = All_data_s_c[k][ic][i]\n",
    "                y = All_data_s_c[k+4][ic][i]/Pz_s_c[ic][i]*1e3\n",
    "                fig, ax, im = get_histogram2d(x, y, bins=bins_xy_theta, title=plot_title, xlabel=xlabel, ylabel=ylabel, cmap=cmap, cscale=cscale)\n",
    "                confidence_ellipse(x, y, ax, n_std=1, label=r'$1\\sigma$', edgecolor='green')\n",
    "                ax.set_ylabel(f'{namelist_s_c[k]}\\'(mrad)')\n",
    "                \n",
    "            #     # Plot a black line through the middle\n",
    "            #     xmin = min(shower_energy_log10)\n",
    "            #     xmax = max(shower_energy_log10)\n",
    "            #     ymin = min(shower_energy_log10_predict)\n",
    "            #     ymax = max(shower_energy_log10_predict)\n",
    "\n",
    "            #     ax.plot([min(xmin, ymin), max(xmax, ymax)], [min(xmin, ymin), max(xmax, ymax)], 'k--')\n",
    "            #     ax.set_ylim(0,np.pi/2)\n",
    "            # plt.xlim(-50, 50)\n",
    "            # plt.ylim(-50, 50)\n",
    "            plt.legend()\n",
    "            plt.tight_layout()\n",
    "            save_name = f'{data.shape[1]} {number_of_files[i]}_{namelist_s_c[k]}_{plot_title}.png'\n",
    "            # plt.savefig(save_name, dpi=300)\n",
    "\n",
    "            oPlot.add_plot(ax) # pass it to the FlowLayout to save as an image\n",
    "            plt.close() # this gets rid of the plot so it doesn't appear in the cell\n",
    "oPlot.PassHtmlToCell()"
   ]
  },
  {
   "cell_type": "code",
   "execution_count": null,
   "id": "f850d85e-9b58-4c43-bedc-86100a77b9df",
   "metadata": {},
   "outputs": [],
   "source": [
    "bin_min = -200\n",
    "# bin_max = max(number_of_files)*100\n",
    "bin_max = 200\n",
    "bin_width_xy = 2\n",
    "bins_number = int(bin_max/bin_width_xy+1)\n",
    "bin_xy = np.linspace(bin_min, bin_max, bins_number)\n",
    "\n",
    "bin_min = -1000\n",
    "bin_max = 1000\n",
    "bin_width_theta = 2\n",
    "bins_number = int(bin_max/bin_width_theta+1)\n",
    "bin_theta = np.linspace(bin_min, bin_max, bins_number)\n",
    "\n",
    "bins_xy_theta = [bin_xy, bin_theta]"
   ]
  },
  {
   "cell_type": "code",
   "execution_count": null,
   "id": "5e0e3b75-ef5c-46d8-90bf-705170979dff",
   "metadata": {},
   "outputs": [],
   "source": [
    "from matplotlib import cm\n",
    "i_list = [0]\n",
    "k_list = [1]\n",
    "ic_list = [2]\n",
    "count = 0\n",
    "# main plotting\n",
    "#Heat map for r theta\n",
    "#####################\n",
    "print(\"                                            All                                                                      momentum cut                                                                             emittacnce cut\")\n",
    "for i in i_list:    \n",
    "    print(number_of_files[i])\n",
    "    fig = plt.figure(figsize=(18,6))\n",
    "    # plt.style.use('_mpl-gallery')\n",
    "    for k in k_list:\n",
    "        print(\"                \",namelist_s_c[k])\n",
    "        for ic in ic_list:\n",
    "            run_name = fr' {cut_name_list[ic]}'\n",
    "            plot_title = fr\"Heatmap of emittance of {run_name}, bin width = {bin_width_xy}cm*{bin_width_theta}mrad.\" +\"\\n\" +f\"Total number is {x_s_c[ic][i].shape[0]}\"\n",
    "            xlabel = f\"{namelist_s_c[k]} (cm)\"\n",
    "            ylabel = f\"{namelist_s_c[k]}\\'(mrad)\" \n",
    "            cmap = \"Reds\"#\"coolwarm\" # \"BuPu\" \"YlOrRd\"\n",
    "            # bins = 100\n",
    "            cscale = \"linear\"\n",
    "            file_name = f\"plots/scatter_2dhistogram_{run_name}_cscale{cscale}.png\"\n",
    "\n",
    "            ax = plt.subplot(1, 3, count+1, projection='3d')\n",
    "            count +=1\n",
    "            # Also plot a heatmap of the scatter plot instead of just dots\n",
    "            if k ==2:\n",
    "                x = r_s_c[ic][i]\n",
    "                y = emission_angle_s_c[ic][i]*1e3\n",
    "                hist, xedges, yedges = np.histogram2d(x, y, bins=bins_xy_theta)\n",
    "                X, Y = np.meshgrid(xedges[:-1], yedges[:-1])\n",
    "                Z = np.transpose(hist)\n",
    "                # Plot the surface\n",
    "                # Normalize to [0,1]\n",
    "                norm = plt.Normalize(Z.min(), Z.max())\n",
    "                colors = cm.Blues(norm(Z))\n",
    "                rcount, ccount, _ = colors.shape\n",
    "\n",
    "                surf = ax.plot_surface(X, Y, Z, edgecolor='none', rcount=rcount, ccount=ccount, facecolors=colors,shade=False) # cmap='Blues'\n",
    "                surf.set_facecolor((0,0,0,0))\n",
    "                # confidence_ellipse(x, y, ax, n_std=1, label=r'$1\\sigma$', edgecolor='green')\n",
    "                ax.set_ylabel(f'{namelist_s_c[k+1]}(mrad)')\n",
    "            else:\n",
    "                x = All_data_s_c[k][ic][i]\n",
    "                y = All_data_s_c[k+4][ic][i]/Pz_s_c[ic][i]*1e3\n",
    "                hist, xedges, yedges = np.histogram2d(x, y, bins=bins_xy_theta)\n",
    "                X, Y = np.meshgrid(xedges[:-1], yedges[:-1])\n",
    "                Z = np.transpose(hist)\n",
    "                # Plot the surface\n",
    "                # Normalize to [0,1]\n",
    "                norm = plt.Normalize(Z.min(), Z.max())\n",
    "                colors = cm.Blues(norm(Z))\n",
    "                rcount, ccount, _ = colors.shape\n",
    "\n",
    "                surf = ax.plot_surface(X, Y, Z, edgecolor='none', rcount=rcount, ccount=ccount, facecolors=colors,shade=False) # cmap='Blues'\n",
    "                surf.set_facecolor((0,0,0,0))\n",
    "                # confidence_ellipse(x, y, ax, n_std=1, label=r'$1\\sigma$', edgecolor='green')\n",
    "                ax.set_ylabel(f'{namelist_s_c[k]}\\'(mrad)')\n",
    "\n",
    "            ax.set_xlabel(xlabel)\n",
    "            plt.tight_layout()\n",
    "            save_name = f'{data.shape[1]} {number_of_files[i]}_{namelist_s_c[k]}_{plot_title}.png'\n",
    "            # plt.savefig(save_name, dpi=300)"
   ]
  },
  {
   "cell_type": "markdown",
   "id": "38598e3b-c98a-4b3f-bc1d-2aa790e99adf",
   "metadata": {},
   "source": [
    "### Emittance and Acceptance fit"
   ]
  },
  {
   "cell_type": "code",
   "execution_count": null,
   "id": "1aaf7dfd-7b12-48ba-a674-46f24172001d",
   "metadata": {},
   "outputs": [],
   "source": [
    "# main plotting\n",
    "oPlot = FlowLayout() # create an empty FlowLayout\n",
    "#Heat map for r theta\n",
    "#####################\n",
    "\n",
    "# fit parameter\n",
    "             \n",
    "u=0       #x-position of the center\n",
    "v=0     #y-position of the center\n",
    "a=10     #radius on the x-axis\n",
    "b=15     #radius on the y-axis\n",
    "t_rot=-15*np.pi/180 #rotation angle\n",
    "\n",
    "t = np.linspace(0, 2*np.pi, 100)\n",
    "Ell = np.array([a*np.cos(t) , b*np.sin(t)])  \n",
    "     #u,v removed to keep the same center location\n",
    "R_rot = np.array([[np.cos(t_rot) , -np.sin(t_rot)],[np.sin(t_rot) , np.cos(t_rot)]])  \n",
    "     #2-D rotation matrix\n",
    "\n",
    "Ell_rot = np.zeros((2,Ell.shape[1]))\n",
    "for k in range(Ell.shape[1]):\n",
    "    Ell_rot[:,k] = np.dot(R_rot,Ell[:,k])\n",
    "\n",
    "# main plot \n",
    "print(\"                                            All                                                                      momentum cut                                                                             emittacnce cut\")\n",
    "for i in range(total_number_of_files):    \n",
    "    print(number_of_files[i])\n",
    "    for k in range(3):\n",
    "        print(\"                \",namelist_s_c[k])\n",
    "        for ic in range(len(cut_list)):\n",
    "            run_name = fr' {cut_name_list[ic]}'\n",
    "            plot_title = fr\"Heatmap of emittance of {run_name}, bin width = {bin_width_xy}cm*{bin_width_theta}mrad.\" +\"\\n\" +f\"Total number is {x_s_c[ic][i].shape[0]}\"\n",
    "            xlabel = f\"{namelist_s_c[k]} (cm)\"\n",
    "            ylabel = f\"{namelist_s_c[k]}\\'(mrad)\" \n",
    "            cmap = \"Reds\"#\"coolwarm\" # \"BuPu\" \"YlOrRd\"\n",
    "            # bins = 100\n",
    "            cscale = \"linear\"\n",
    "            file_name = f\"plots/scatter_2dhistogram_{run_name}_cscale{cscale}.png\"\n",
    "\n",
    "            # Also plot a heatmap of the scatter plot instead of just dots\n",
    "            if k ==2:\n",
    "                x = r_s_c[ic][i]\n",
    "                y = emission_angle_s_c[ic][i]*1e3\n",
    "                fig, ax, im = get_histogram2d(x, y,  bins=bins_xy_theta, title=plot_title, xlabel=xlabel, ylabel=ylabel, cmap=cmap, cscale=cscale)\n",
    "                ax.set_ylabel(f'{namelist_s_c[k+1]}(mrad)')\n",
    "                plt.xlim(0, 100)\n",
    "                plt.ylim(0, 250)\n",
    "            else:\n",
    "                x = All_data_s_c[k][ic][i]\n",
    "                y = All_data_s_c[k+4][ic][i]/Pz_s_c[ic][i]*1e3\n",
    "                fig, ax, im = get_histogram2d(x, y, bins=bins_xy_theta, title=plot_title, xlabel=xlabel, ylabel=ylabel, cmap=cmap, cscale=cscale)\n",
    "                ax.set_ylabel(f'{namelist_s_c[k]}\\'(mrad)')\n",
    "                \n",
    "                plt.plot( u+Ell_rot[0,:] , v+Ell_rot[1,:],'blue', label=fr'area = {a}cm*{b}mrad*$\\pi$ ~ 1.5 mmrad' )    #rotated ellipse darkorange\n",
    "                plt.xlim(-50, 50)\n",
    "                plt.ylim(-50, 50)\n",
    "                   \n",
    "            # plt.plot( u+Ell[0,:] , v+Ell[1,:], color = 'g' )     #initial ellipse   \n",
    "            plt.legend()\n",
    "            plt.tight_layout()\n",
    "            save_name = f'{data.shape[1]} {number_of_files[i]}_{namelist_s_c[k]}_{plot_title}.png'\n",
    "            # plt.savefig(save_name, dpi=300)\n",
    "\n",
    "            oPlot.add_plot(ax) # pass it to the FlowLayout to save as an image\n",
    "            plt.close() # this gets rid of the plot so it doesn't appear in the cell\n",
    "oPlot.PassHtmlToCell()"
   ]
  },
  {
   "cell_type": "markdown",
   "id": "faed9f9c-50e0-44ac-88ad-7b4de8861896",
   "metadata": {
    "tags": []
   },
   "source": [
    "### heat map xy"
   ]
  },
  {
   "cell_type": "code",
   "execution_count": null,
   "id": "a2da17e9-13b0-4ea6-a6db-71e87012854c",
   "metadata": {},
   "outputs": [],
   "source": [
    "bin_min = -200\n",
    "# bin_max = max(number_of_files)*100\n",
    "bin_max = 200\n",
    "bin_width_xy = 1\n",
    "bins_number = int(bin_max/bin_width_xy+1)\n",
    "bin_xy = np.linspace(bin_min, bin_max, bins_number)\n",
    "\n",
    "bins_xy_xy = [bin_xy, bin_xy]\n",
    "# bins = 50"
   ]
  },
  {
   "cell_type": "code",
   "execution_count": null,
   "id": "056fb0d5-a455-4f6d-aaaf-ca9ae410d697",
   "metadata": {},
   "outputs": [],
   "source": [
    "# main plotting\n",
    "oPlot = FlowLayout() # create an empty FlowLayout\n",
    "#Heat map for r theta\n",
    "#####################\n",
    "print(\"                                            All                                                                      momentum cut                                                                             emittacnce cut\")\n",
    "for i in range(total_number_of_files):    \n",
    "    print(number_of_files[i])\n",
    "    for k in range(2):\n",
    "        print(\"                \",namelist_s_c[k])\n",
    "        for ic in range(len(cut_list)):\n",
    "            run_name = fr' {cut_name_list[ic]}'\n",
    "            plot_title = fr\"Heatmap of emittance of {run_name}, bin width = {bin_width_xy}cm*{bin_width_theta}mrad.\" +\"\\n\" +f\"Total number is {x_s_c[ic][i].shape[0]}\"\n",
    "            xlabel = f\"x (cm)\"\n",
    "            ylabel = f\"y'(cm)\" \n",
    "            cmap = \"Greens\"#\"coolwarm\" # \"BuPu\" \"YlOrRd\"\n",
    "            cscale = \"linear\"\n",
    "            file_name = f\"plots/scatter_2dhistogram_{run_name}_cscale{cscale}.png\"\n",
    "\n",
    "            # Also plot a heatmap of the scatter plot instead of just dots\n",
    "            x, y = x_s_c[ic][i], y_s_c[ic][i]\n",
    "            fig, ax, im = get_histogram2d(x, y, bins=bins_xy_xy, title=plot_title, xlabel=xlabel, ylabel=ylabel, cmap=cmap, cscale=cscale)\n",
    "            confidence_ellipse(x, y, ax, n_std=1, label=r'$1\\sigma$', edgecolor='red')\n",
    "                \n",
    "            # xy_range = 20\n",
    "            # plt.xlim(-xy_range, xy_range)\n",
    "            # plt.ylim(-xy_range, xy_range)\n",
    "            plt.tight_layout()\n",
    "            save_name = f'{data.shape[1]} {number_of_files[i]}_xy_{plot_title}.png'\n",
    "            # plt.savefig(save_name, dpi=300)\n",
    "\n",
    "            oPlot.add_plot(ax) # pass it to the FlowLayout to save as an image\n",
    "            plt.close() # this gets rid of the plot so it doesn't appear in the cell\n",
    "oPlot.PassHtmlToCell()"
   ]
  },
  {
   "cell_type": "code",
   "execution_count": null,
   "id": "99167cd4-6612-475a-8f51-80a872f820ad",
   "metadata": {},
   "outputs": [],
   "source": [
    "# main plotting\n",
    "oPlot = FlowLayout() # create an empty FlowLayout\n",
    "#Heat map for r theta\n",
    "#####################\n",
    "print(\"                                            All                                                                      momentum cut                                                                             emittacnce cut\")\n",
    "for i in range(total_number_of_files):    \n",
    "    print(number_of_files[i])\n",
    "    for k in range(2):\n",
    "        print(\"                \",namelist_s_c[k])\n",
    "        for ic in range(len(cut_list)):\n",
    "            run_name = fr' {cut_name_list[ic]}'\n",
    "            plot_title = fr\"Heatmap of emittance of {run_name}, bin width = {bin_width_xy}cm*{bin_width_theta}mrad.\" +\"\\n\" +f\"Total number is {x_s_c[ic][i].shape[0]}\"\n",
    "            xlabel = f\"x (cm)\"\n",
    "            ylabel = f\"y'(cm)\" \n",
    "            cmap = \"Greens\"#\"coolwarm\" # \"BuPu\" \"YlOrRd\"\n",
    "            cscale = \"linear\"\n",
    "            file_name = f\"plots/scatter_2dhistogram_{run_name}_cscale{cscale}.png\"\n",
    "\n",
    "            # Also plot a heatmap of the scatter plot instead of just dots\n",
    "            x, y = x_s_c[ic][i], y_s_c[ic][i]\n",
    "            fig, ax, im = get_histogram2d(x, y, bins=bins_xy_xy, title=plot_title, xlabel=xlabel, ylabel=ylabel, cmap=cmap, cscale=cscale)\n",
    "            confidence_ellipse(x, y, ax, n_std=1, label=r'$1\\sigma$', edgecolor='red')\n",
    "                \n",
    "            xy_range = 20\n",
    "            plt.xlim(-xy_range, xy_range)\n",
    "            plt.ylim(-xy_range, xy_range)\n",
    "            plt.legend()\n",
    "            plt.tight_layout()\n",
    "            # save_name = f'{data.shape[1]} {number_of_files[i]}_{namelist_s_c[k]}_{plot_title}.png'\n",
    "            # plt.savefig(save_name, dpi=300)\n",
    "\n",
    "            oPlot.add_plot(ax) # pass it to the FlowLayout to save as an image\n",
    "            plt.close() # this gets rid of the plot so it doesn't appear in the cell\n",
    "oPlot.PassHtmlToCell()"
   ]
  },
  {
   "cell_type": "markdown",
   "id": "956da0d1-ed89-4353-9f62-73edda976cad",
   "metadata": {
    "slideshow": {
     "slide_type": "slide"
    },
    "tags": []
   },
   "source": [
    "## x distribution"
   ]
  },
  {
   "cell_type": "code",
   "execution_count": null,
   "id": "44255709-f032-4c63-af2c-a1efb0e23bb0",
   "metadata": {},
   "outputs": [],
   "source": [
    "from scipy.stats import norm\n",
    "colors = ['b', 'g', 'r', 'c', 'm', 'y', 'k','pink','brown','olive','orange', 'purple']\n",
    "fig = plt.figure(figsize=(15,15))\n",
    "ax = fig.add_subplot(111)\n",
    "# bin = 100\n",
    "## plot type\n",
    "for i in range(total_number_of_files):\n",
    "    for ic in range(total_number_of_cut):\n",
    "        # if ic == 2:\n",
    "        #     linestyle = ':'\n",
    "        #     n, bins, patches = ax.hist(P_s_c[ic][i], bins=bin, histtype='step', color = colors[ic-int(len(cut_list)/2)], linestyle=linestyle,\n",
    "        #                                label=fr'{cut_name_list[ic]} : Total number is {P_s_c[ic][i].shape[0]}')\n",
    "        # else:\n",
    "            # linestyle = '-'\n",
    "        n, bins, patches = ax.hist(x_s_c[ic][i], bins=bin_xy, histtype='step', color = colors[total_number_of_cut*i +ic], linestyle=linestyle,\n",
    "                                       label=fr'{number_of_files[i]}_{cut_name_list[ic]} : Total number is {x_s_c[ic][i].shape[0]}')\n",
    "        \n",
    "        ci = norm(*norm.fit(x_s_c[ic][i])).interval(0.68)  # fit a normal distribution and get 95% c.i.\n",
    "        plt.fill_betweenx([0, n.max()], ci[0], ci[1], color=colors[total_number_of_cut*i +ic], alpha=0.1)  # Mark between 0 and the highest bar in the histogram\n",
    "    \n",
    "## optional config\n",
    "plt.legend(loc='upper right')\n",
    "plt.xlabel('x (cm)')\n",
    "plt.ylabel(f' N/{bin_width} MeV')\n",
    "# ax.set_ylim(0,1000)\n",
    "# plt.title(f'{cut_name_list[i]}') #f'$10^{int(np.log10(data.shape[1]))}$ {number_of_files[i]}00MeV muon decays. ~14% in the narrow cone.')\n",
    "save_name = f'{data.shape[1]}_x_dis.png'\n",
    "plt.savefig(save_name)"
   ]
  },
  {
   "cell_type": "markdown",
   "id": "d871b685-61e0-4cf5-a514-f74012430f6e",
   "metadata": {},
   "source": [
    "### 3D plots"
   ]
  },
  {
   "cell_type": "code",
   "execution_count": null,
   "id": "434762f3-e0dd-4077-8102-47b8af763238",
   "metadata": {},
   "outputs": [],
   "source": [
    "from matplotlib import cm\n",
    "from mpl_toolkits.mplot3d import Axes3D\n",
    "# %matplotlib\n",
    "%matplotlib widget"
   ]
  },
  {
   "cell_type": "code",
   "execution_count": null,
   "id": "716143f2-07b4-4dd4-b839-c767d7448ad5",
   "metadata": {
    "tags": []
   },
   "outputs": [],
   "source": [
    "# plt.close(\"all\") "
   ]
  },
  {
   "cell_type": "code",
   "execution_count": null,
   "id": "d7e710b5-cfa7-4f99-a56f-0a7a70c08d3d",
   "metadata": {},
   "outputs": [],
   "source": [
    "# main plotting\n",
    "# oPlot = FlowLayout() # create an empty FlowLayout\n",
    "#Heat map for r theta\n",
    "#####################\n",
    "\n",
    "print(\"                                            All                                                                      momentum cut                                                                             emittacnce cut\")\n",
    "for i in range(total_number_of_files):    \n",
    "    print(number_of_files[i])\n",
    "    fig = plt.figure(figsize=(18,12))\n",
    "    for k in range(2):\n",
    "        print(\"                \",namelist_s_c[k])\n",
    "        for ic in range(len(cut_list)):\n",
    "            run_name = fr' {cut_name_list[ic]}'\n",
    "            plot_title = fr\"Heatmap of emittance of {run_name}, bin width = {bin_width_xy}cm*{bin_width_theta}mrad.\" +\"\\n\" +f\"Total number is {x_s_c[ic][i].shape[0]}\"\n",
    "            xlabel = f\"x (cm)\"\n",
    "            ylabel = f\"y'(cm)\" \n",
    "            cmap = \"Greens\"#\"coolwarm\" # \"BuPu\" \"YlOrRd\"\n",
    "            cscale = \"linear\"\n",
    "            file_name = f\"plots/scatter_2dhistogram_{run_name}_cscale{cscale}.png\"\n",
    "            \n",
    "            ax = plt.subplot(2,3,1+3*k+ic, projection='3d')\n",
    "            # Also plot a heatmap of the scatter plot instead of just dots\n",
    "            x, y = x_s_c[ic][i], y_s_c[ic][i]\n",
    "            \n",
    "            # Make data\n",
    "            hist, xedges, yedges = np.histogram2d(x, y, bins=50)\n",
    "            X, Y = np.meshgrid(xedges[:-1] + 0.25, yedges[:-1] + 0.25)\n",
    "            Z = hist\n",
    "            # print(X.shape, Y.shape, Z.shape)\n",
    "            # Plot the surface\n",
    "            plt.style.use('_mpl-gallery')\n",
    "            cmap = plt.cm.get_cmap('viridis')  # You can choose any colormap here\n",
    "            # Creating the figure\n",
    "            # fig = plt.figure(figsize=(5,5))\n",
    "            # ax = fig.add_subplot(111, projection='3d')\n",
    "            surf = ax.plot_surface(X, Y, Z,  cmap=cm.Blues, edgecolor='none', alpha=0.7) # \n",
    "\n",
    "            \n",
    "            # save_name = f'{data.shape[1]} {number_of_files[i]}_{namelist_s_c[k]}_{plot_title}.png'\n",
    "            # plt.savefig(save_name, dpi=300)\n",
    "            \n",
    "            plt.xlabel(xlabel)\n",
    "            plt.ylabel(ylabel)\n",
    "            plt.title(plot_title)\n",
    "            # Adding colorbar\n",
    "            \n",
    "            # fig.colorbar(surf, ax=ax, label='Frequency')\n",
    "            # plt.show()\n",
    "\n",
    "            # oPlot.add_plot(ax) # pass it to the FlowLayout to save as an image\n",
    "            # plt.close() # this gets rid of the plot so it doesn't appear in the cell\n",
    "    plt.tight_layout()\n",
    "# oPlot.PassHtmlToCell()"
   ]
  },
  {
   "cell_type": "code",
   "execution_count": null,
   "id": "6457dfbf-ef84-4aff-a740-524905f0d97c",
   "metadata": {},
   "outputs": [],
   "source": [
    "!jupyter nbconvert --to html Plot_BL_files"
   ]
  }
 ],
 "metadata": {
  "kernelspec": {
   "display_name": "Python 3 (ipykernel)",
   "language": "python",
   "name": "python3"
  },
  "language_info": {
   "codemirror_mode": {
    "name": "ipython",
    "version": 3
   },
   "file_extension": ".py",
   "mimetype": "text/x-python",
   "name": "python",
   "nbconvert_exporter": "python",
   "pygments_lexer": "ipython3",
   "version": "3.9.12"
  },
  "toc-autonumbering": true,
  "toc-showmarkdowntxt": false,
  "toc-showtags": true
 },
 "nbformat": 4,
 "nbformat_minor": 5
}
